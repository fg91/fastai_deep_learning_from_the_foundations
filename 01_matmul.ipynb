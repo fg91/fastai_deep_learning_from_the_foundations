{
 "cells": [
  {
   "cell_type": "markdown",
   "metadata": {},
   "source": [
    "# Matrix multiplication from scratch\n",
    "Building a deep learning library starting from scratch."
   ]
  },
  {
   "cell_type": "markdown",
   "metadata": {},
   "source": [
    "## Check imports"
   ]
  },
  {
   "cell_type": "code",
   "execution_count": 155,
   "metadata": {},
   "outputs": [
    {
     "name": "stdout",
     "output_type": "stream",
     "text": [
      "The autoreload extension is already loaded. To reload it, use:\n",
      "  %reload_ext autoreload\n"
     ]
    }
   ],
   "source": [
    "%load_ext autoreload\n",
    "%autoreload 2\n",
    "\n",
    "%matplotlib inline"
   ]
  },
  {
   "cell_type": "code",
   "execution_count": 156,
   "metadata": {},
   "outputs": [],
   "source": [
    "#export\n",
    "from exp.nb_00 import *\n",
    "import operator\n",
    "\n",
    "def test(a, b, cmp, cname=None):\n",
    "    if cname is None: cname=cmp.__name__\n",
    "    assert cmp(a,b),f\"{cname}:\\n{a}\\n{b}\"\n",
    "        \n",
    "def test_eq(a,b):\n",
    "    test(a,b,operator.eq,'==')"
   ]
  },
  {
   "cell_type": "code",
   "execution_count": 157,
   "metadata": {},
   "outputs": [],
   "source": [
    "test_eq(TEST,'test')"
   ]
  },
  {
   "cell_type": "markdown",
   "metadata": {},
   "source": [
    "## Get MNIST data"
   ]
  },
  {
   "cell_type": "code",
   "execution_count": 158,
   "metadata": {},
   "outputs": [],
   "source": [
    "#export\n",
    "from pathlib import Path\n",
    "from IPython.core.debugger import set_trace\n",
    "from fastai import datasets\n",
    "import pickle, gzip, math, torch, matplotlib as mpl\n",
    "import matplotlib.pyplot as plt\n",
    "from torch import tensor\n",
    "\n",
    "MNIST_URL = 'http://deeplearning.net/data/mnist/mnist.pkl'"
   ]
  },
  {
   "cell_type": "code",
   "execution_count": 159,
   "metadata": {},
   "outputs": [],
   "source": [
    "path = datasets.download_data(MNIST_URL, ext='.gz')"
   ]
  },
  {
   "cell_type": "code",
<<<<<<< HEAD
   "execution_count": 160,
=======
   "execution_count": 6,
>>>>>>> e05e2ccf817941f0bf181fa6dcae45400fe2db7f
   "metadata": {},
   "outputs": [
    {
     "data": {
      "text/plain": [
       "PosixPath('/home/fabiograetz/.fastai/data/mnist.pkl.gz')"
      ]
     },
<<<<<<< HEAD
     "execution_count": 160,
=======
     "execution_count": 6,
>>>>>>> e05e2ccf817941f0bf181fa6dcae45400fe2db7f
     "metadata": {},
     "output_type": "execute_result"
    }
   ],
   "source": [
    "path"
   ]
  },
  {
   "cell_type": "code",
<<<<<<< HEAD
   "execution_count": 161,
=======
   "execution_count": 7,
>>>>>>> e05e2ccf817941f0bf181fa6dcae45400fe2db7f
   "metadata": {},
   "outputs": [],
   "source": [
    "with gzip.open(path, 'rb') as f:\n",
    "    ((x_train, y_train), (x_valid, y_valid), _) = pickle.load(f, encoding='latin-1')"
   ]
  },
  {
   "cell_type": "markdown",
   "metadata": {},
   "source": [
    "**Convert numpy arrays to PyTorch tensors:**"
   ]
  },
  {
   "cell_type": "code",
<<<<<<< HEAD
   "execution_count": 162,
=======
   "execution_count": 8,
>>>>>>> e05e2ccf817941f0bf181fa6dcae45400fe2db7f
   "metadata": {},
   "outputs": [],
   "source": [
    "x_train, y_train, x_valid, y_valid = map(tensor, (x_train, y_train, x_valid, y_valid))"
   ]
  },
  {
   "cell_type": "code",
<<<<<<< HEAD
   "execution_count": 163,
=======
   "execution_count": 9,
>>>>>>> e05e2ccf817941f0bf181fa6dcae45400fe2db7f
   "metadata": {},
   "outputs": [
    {
     "data": {
      "text/plain": [
       "torch.Tensor"
      ]
     },
<<<<<<< HEAD
     "execution_count": 163,
=======
     "execution_count": 9,
>>>>>>> e05e2ccf817941f0bf181fa6dcae45400fe2db7f
     "metadata": {},
     "output_type": "execute_result"
    }
   ],
   "source": [
    "type(x_train)"
   ]
  },
  {
   "cell_type": "code",
<<<<<<< HEAD
   "execution_count": 164,
=======
   "execution_count": 10,
>>>>>>> e05e2ccf817941f0bf181fa6dcae45400fe2db7f
   "metadata": {},
   "outputs": [],
   "source": [
    "n,c = x_train.shape"
   ]
  },
  {
   "cell_type": "code",
<<<<<<< HEAD
   "execution_count": 165,
=======
   "execution_count": 11,
>>>>>>> e05e2ccf817941f0bf181fa6dcae45400fe2db7f
   "metadata": {},
   "outputs": [],
   "source": [
    "assert n==y_train.shape[0]==50000\n",
    "test_eq(c,28*28)\n",
    "test_eq(y_train.min(), 0)\n",
    "test_eq(y_train.max(), 9)"
   ]
  },
  {
   "cell_type": "code",
<<<<<<< HEAD
   "execution_count": 166,
=======
   "execution_count": 12,
>>>>>>> e05e2ccf817941f0bf181fa6dcae45400fe2db7f
   "metadata": {},
   "outputs": [],
   "source": [
    "mpl.rcParams['image.cmap'] = 'gray'"
   ]
  },
  {
   "cell_type": "code",
<<<<<<< HEAD
   "execution_count": 167,
=======
   "execution_count": 13,
>>>>>>> e05e2ccf817941f0bf181fa6dcae45400fe2db7f
   "metadata": {},
   "outputs": [
    {
     "data": {
      "text/plain": [
<<<<<<< HEAD
       "<matplotlib.image.AxesImage at 0x7f3ae71e05f8>"
      ]
     },
     "execution_count": 167,
=======
       "<matplotlib.image.AxesImage at 0x7f3ae7e73898>"
      ]
     },
     "execution_count": 13,
>>>>>>> e05e2ccf817941f0bf181fa6dcae45400fe2db7f
     "metadata": {},
     "output_type": "execute_result"
    },
    {
     "data": {
      "image/png": "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\n",
      "text/plain": [
       "<Figure size 432x288 with 1 Axes>"
      ]
     },
     "metadata": {
      "needs_background": "light"
     },
     "output_type": "display_data"
    }
   ],
   "source": [
    "plt.imshow(x_train[0].view((28,28)))"
   ]
  },
  {
   "cell_type": "markdown",
   "metadata": {},
   "source": [
    "## Initial python model"
   ]
  },
  {
   "cell_type": "code",
<<<<<<< HEAD
   "execution_count": 168,
=======
   "execution_count": 14,
>>>>>>> e05e2ccf817941f0bf181fa6dcae45400fe2db7f
   "metadata": {},
   "outputs": [],
   "source": [
    "weights = torch.randn(784,10)\n",
    "bias = torch.zeros(10)"
   ]
  },
  {
   "cell_type": "markdown",
   "metadata": {},
   "source": [
    "### Matrix multiplication"
   ]
  },
  {
   "cell_type": "code",
<<<<<<< HEAD
   "execution_count": 169,
=======
   "execution_count": 15,
>>>>>>> e05e2ccf817941f0bf181fa6dcae45400fe2db7f
   "metadata": {},
   "outputs": [],
   "source": [
    "def matmul(a,b):\n",
    "    ar, ac = a.shape\n",
    "    br, bc = b.shape\n",
    "    assert ac==br\n",
    "    c = torch.zeros(ar, bc)\n",
    "    for i in range(ar):\n",
    "        for j in range(bc):\n",
    "            for k in range(ac):\n",
    "                c[i,j] += a[i,k] * b[k,j]\n",
    "    return c"
   ]
  },
  {
   "cell_type": "code",
<<<<<<< HEAD
   "execution_count": 170,
=======
   "execution_count": 16,
>>>>>>> e05e2ccf817941f0bf181fa6dcae45400fe2db7f
   "metadata": {},
   "outputs": [
    {
     "data": {
      "text/plain": [
       "(torch.Size([5, 784]), torch.Size([784, 10]))"
      ]
     },
<<<<<<< HEAD
     "execution_count": 170,
=======
     "execution_count": 16,
>>>>>>> e05e2ccf817941f0bf181fa6dcae45400fe2db7f
     "metadata": {},
     "output_type": "execute_result"
    }
   ],
   "source": [
    "m1 = x_valid[:5]\n",
    "m2 = weights\n",
    "m1.shape, m2.shape"
   ]
  },
  {
   "cell_type": "code",
<<<<<<< HEAD
   "execution_count": 171,
=======
   "execution_count": 17,
>>>>>>> e05e2ccf817941f0bf181fa6dcae45400fe2db7f
   "metadata": {},
   "outputs": [
    {
     "name": "stdout",
     "output_type": "stream",
     "text": [
<<<<<<< HEAD
      "CPU times: user 825 ms, sys: 0 ns, total: 825 ms\n",
      "Wall time: 825 ms\n"
=======
      "CPU times: user 830 ms, sys: 1.25 ms, total: 831 ms\n",
      "Wall time: 834 ms\n"
>>>>>>> e05e2ccf817941f0bf181fa6dcae45400fe2db7f
     ]
    }
   ],
   "source": [
    "%time t1 = matmul(m1,m2)"
   ]
  },
  {
   "cell_type": "code",
<<<<<<< HEAD
   "execution_count": 172,
=======
   "execution_count": 18,
>>>>>>> e05e2ccf817941f0bf181fa6dcae45400fe2db7f
   "metadata": {},
   "outputs": [
    {
     "data": {
      "text/plain": [
       "torch.Size([5, 10])"
      ]
     },
<<<<<<< HEAD
     "execution_count": 172,
=======
     "execution_count": 18,
>>>>>>> e05e2ccf817941f0bf181fa6dcae45400fe2db7f
     "metadata": {},
     "output_type": "execute_result"
    }
   ],
   "source": [
    "t1.shape"
   ]
  },
  {
   "cell_type": "markdown",
   "metadata": {},
   "source": [
    "Ok, this is insanely slow. We need to speed this up :)\n",
    "\n",
    "To do this we use *elementwise operations* such as +, -, *, /, >, <, ==."
   ]
  },
  {
   "cell_type": "markdown",
   "metadata": {},
   "source": [
    "Example:\n",
    "\n",
    "Frobenius norm:\n",
    "\n",
    "$||A||_F=\\left(\\sum_{i,j=1}^{n,m} a_{i,j}^2\\right)^{1/2}$"
   ]
  },
  {
   "cell_type": "code",
<<<<<<< HEAD
   "execution_count": 173,
=======
   "execution_count": 19,
>>>>>>> e05e2ccf817941f0bf181fa6dcae45400fe2db7f
   "metadata": {},
   "outputs": [],
   "source": [
    "m = tensor([[1., 2., 3.], [4., 5., 6.], [7., 8., 9.]])"
   ]
  },
  {
   "cell_type": "code",
<<<<<<< HEAD
   "execution_count": 174,
=======
   "execution_count": 20,
>>>>>>> e05e2ccf817941f0bf181fa6dcae45400fe2db7f
   "metadata": {},
   "outputs": [
    {
     "data": {
      "text/plain": [
       "tensor([[1., 2., 3.],\n",
       "        [4., 5., 6.],\n",
       "        [7., 8., 9.]])"
      ]
     },
<<<<<<< HEAD
     "execution_count": 174,
=======
     "execution_count": 20,
>>>>>>> e05e2ccf817941f0bf181fa6dcae45400fe2db7f
     "metadata": {},
     "output_type": "execute_result"
    }
   ],
   "source": [
    "m"
   ]
  },
  {
   "cell_type": "code",
<<<<<<< HEAD
   "execution_count": 175,
=======
   "execution_count": 21,
>>>>>>> e05e2ccf817941f0bf181fa6dcae45400fe2db7f
   "metadata": {},
   "outputs": [
    {
     "data": {
      "text/plain": [
       "tensor(16.8819)"
      ]
     },
<<<<<<< HEAD
     "execution_count": 175,
=======
     "execution_count": 21,
>>>>>>> e05e2ccf817941f0bf181fa6dcae45400fe2db7f
     "metadata": {},
     "output_type": "execute_result"
    }
   ],
   "source": [
    "(m*m).sum().sqrt()  # The multiplication here is elementwise!\n",
    "                    # equivalent to m.pow(2)"
   ]
  },
  {
   "cell_type": "markdown",
   "metadata": {},
   "source": [
    "### Matrix multiplication using elementwise operations"
   ]
  },
  {
   "cell_type": "code",
<<<<<<< HEAD
   "execution_count": 176,
=======
   "execution_count": 22,
>>>>>>> e05e2ccf817941f0bf181fa6dcae45400fe2db7f
   "metadata": {},
   "outputs": [],
   "source": [
    "def matmul(a,b):\n",
    "    ar, ac = a.shape\n",
    "    br, bc = b.shape\n",
    "    assert ac==br\n",
    "    c = torch.zeros(ar, bc)\n",
    "    for i in range(ar):\n",
    "        for j in range(bc):\n",
    "            # Trailing \",:\"\"  are actually not necessary\n",
    "            c[i,j] += (a[i,:] * b[:,j]).sum()  # row i of a and col j of b are multiplied elementwise\n",
    "    return c"
   ]
  },
  {
   "cell_type": "code",
<<<<<<< HEAD
   "execution_count": 177,
=======
   "execution_count": 23,
>>>>>>> e05e2ccf817941f0bf181fa6dcae45400fe2db7f
   "metadata": {},
   "outputs": [
    {
     "data": {
      "text/plain": [
       "torch.Size([784])"
      ]
     },
<<<<<<< HEAD
     "execution_count": 177,
=======
     "execution_count": 23,
>>>>>>> e05e2ccf817941f0bf181fa6dcae45400fe2db7f
     "metadata": {},
     "output_type": "execute_result"
    }
   ],
   "source": [
    "m1[1,:].shape"
   ]
  },
  {
   "cell_type": "code",
<<<<<<< HEAD
   "execution_count": 178,
=======
   "execution_count": 24,
>>>>>>> e05e2ccf817941f0bf181fa6dcae45400fe2db7f
   "metadata": {},
   "outputs": [
    {
     "data": {
      "text/plain": [
       "torch.Size([784])"
      ]
     },
<<<<<<< HEAD
     "execution_count": 178,
=======
     "execution_count": 24,
>>>>>>> e05e2ccf817941f0bf181fa6dcae45400fe2db7f
     "metadata": {},
     "output_type": "execute_result"
    }
   ],
   "source": [
    "m2[:,1].shape"
   ]
  },
  {
   "cell_type": "code",
<<<<<<< HEAD
   "execution_count": 179,
=======
   "execution_count": 25,
>>>>>>> e05e2ccf817941f0bf181fa6dcae45400fe2db7f
   "metadata": {},
   "outputs": [
    {
     "name": "stdout",
     "output_type": "stream",
     "text": [
<<<<<<< HEAD
      "1.79 ms ± 249 µs per loop (mean ± std. dev. of 7 runs, 10 loops each)\n"
=======
      "1.83 ms ± 164 µs per loop (mean ± std. dev. of 7 runs, 10 loops each)\n"
>>>>>>> e05e2ccf817941f0bf181fa6dcae45400fe2db7f
     ]
    }
   ],
   "source": [
    "%timeit -n 10 _=matmul(m1,m2)"
   ]
  },
  {
   "cell_type": "code",
<<<<<<< HEAD
   "execution_count": 180,
=======
   "execution_count": 26,
>>>>>>> e05e2ccf817941f0bf181fa6dcae45400fe2db7f
   "metadata": {},
   "outputs": [
    {
     "data": {
      "text/plain": [
       "462.72189349112426"
      ]
     },
<<<<<<< HEAD
     "execution_count": 180,
=======
     "execution_count": 26,
>>>>>>> e05e2ccf817941f0bf181fa6dcae45400fe2db7f
     "metadata": {},
     "output_type": "execute_result"
    }
   ],
   "source": [
    "782 / 1.69"
   ]
  },
  {
   "cell_type": "code",
<<<<<<< HEAD
   "execution_count": 181,
=======
   "execution_count": 27,
>>>>>>> e05e2ccf817941f0bf181fa6dcae45400fe2db7f
   "metadata": {},
   "outputs": [],
   "source": [
    "#export\n",
    "def near(a,b):\n",
    "    return torch.allclose(a, b, rtol=1e-3, atol=1e-5)\n",
    "def test_near(a,b):\n",
    "    test(a, b, near)"
   ]
  },
  {
   "cell_type": "markdown",
   "metadata": {},
   "source": [
    "You cannot check for equality when dealing with floating point numbers"
   ]
  },
  {
   "cell_type": "code",
<<<<<<< HEAD
   "execution_count": 182,
=======
   "execution_count": 28,
>>>>>>> e05e2ccf817941f0bf181fa6dcae45400fe2db7f
   "metadata": {},
   "outputs": [],
   "source": [
    "test_near(t1, matmul(m1, m2))"
   ]
  },
  {
   "cell_type": "markdown",
   "metadata": {},
   "source": [
    "### Matrix multiplication using *broadcasting*\n",
    "The term broadcasting describes how numpy treats arrays with \n",
    "different shapes during arithmetic operations. Subject to certain \n",
    "constraints, the smaller array is “broadcast” across the larger \n",
    "array so that they have compatible shapes. Broadcasting provides a \n",
    "means of vectorizing array operations so that looping occurs in C\n",
    "instead of Python. It does this without making needless copies of \n",
    "data and usually leads to efficient algorithm implementations."
   ]
  },
  {
   "cell_type": "markdown",
   "metadata": {},
   "source": [
    "#### Examples"
   ]
  },
  {
   "cell_type": "code",
<<<<<<< HEAD
   "execution_count": 183,
=======
   "execution_count": 33,
>>>>>>> e05e2ccf817941f0bf181fa6dcae45400fe2db7f
   "metadata": {},
   "outputs": [],
   "source": [
    "a = tensor([10., 5., -1.])"
   ]
  },
  {
   "cell_type": "code",
<<<<<<< HEAD
   "execution_count": 184,
=======
   "execution_count": 34,
>>>>>>> e05e2ccf817941f0bf181fa6dcae45400fe2db7f
   "metadata": {},
   "outputs": [
    {
     "data": {
      "text/plain": [
       "tensor([10.,  5., -1.])"
      ]
     },
<<<<<<< HEAD
     "execution_count": 184,
=======
     "execution_count": 34,
>>>>>>> e05e2ccf817941f0bf181fa6dcae45400fe2db7f
     "metadata": {},
     "output_type": "execute_result"
    }
   ],
   "source": [
    "a"
   ]
  },
  {
   "cell_type": "markdown",
   "metadata": {},
   "source": [
    "**Broadcast with scalar**"
   ]
  },
  {
   "cell_type": "code",
<<<<<<< HEAD
   "execution_count": 185,
=======
   "execution_count": 36,
>>>>>>> e05e2ccf817941f0bf181fa6dcae45400fe2db7f
   "metadata": {},
   "outputs": [
    {
     "data": {
      "text/plain": [
       "tensor([1, 1, 0], dtype=torch.uint8)"
      ]
     },
<<<<<<< HEAD
     "execution_count": 185,
=======
     "execution_count": 36,
>>>>>>> e05e2ccf817941f0bf181fa6dcae45400fe2db7f
     "metadata": {},
     "output_type": "execute_result"
    }
   ],
   "source": [
    "a > 0"
   ]
  },
  {
   "cell_type": "code",
<<<<<<< HEAD
   "execution_count": 186,
=======
   "execution_count": 37,
>>>>>>> e05e2ccf817941f0bf181fa6dcae45400fe2db7f
   "metadata": {},
   "outputs": [
    {
     "data": {
      "text/plain": [
       "tensor([[1., 2., 3.],\n",
       "        [4., 5., 6.],\n",
       "        [7., 8., 9.]])"
      ]
     },
<<<<<<< HEAD
     "execution_count": 186,
=======
     "execution_count": 37,
>>>>>>> e05e2ccf817941f0bf181fa6dcae45400fe2db7f
     "metadata": {},
     "output_type": "execute_result"
    }
   ],
   "source": [
    "m"
   ]
  },
  {
   "cell_type": "code",
<<<<<<< HEAD
   "execution_count": 187,
=======
   "execution_count": 38,
>>>>>>> e05e2ccf817941f0bf181fa6dcae45400fe2db7f
   "metadata": {},
   "outputs": [
    {
     "data": {
      "text/plain": [
       "tensor([[ 3.,  6.,  9.],\n",
       "        [12., 15., 18.],\n",
       "        [21., 24., 27.]])"
      ]
     },
<<<<<<< HEAD
     "execution_count": 187,
=======
     "execution_count": 38,
>>>>>>> e05e2ccf817941f0bf181fa6dcae45400fe2db7f
     "metadata": {},
     "output_type": "execute_result"
    }
   ],
   "source": [
    "3 * m"
   ]
  },
  {
   "cell_type": "markdown",
   "metadata": {},
   "source": [
    "**Broadcast a vector to a matrix:**"
   ]
  },
  {
   "cell_type": "code",
<<<<<<< HEAD
   "execution_count": 188,
=======
   "execution_count": 39,
>>>>>>> e05e2ccf817941f0bf181fa6dcae45400fe2db7f
   "metadata": {},
   "outputs": [
    {
     "data": {
      "text/plain": [
       "tensor([10.,  5., -1.])"
      ]
     },
<<<<<<< HEAD
     "execution_count": 188,
=======
     "execution_count": 39,
>>>>>>> e05e2ccf817941f0bf181fa6dcae45400fe2db7f
     "metadata": {},
     "output_type": "execute_result"
    }
   ],
   "source": [
    "a"
   ]
  },
  {
   "cell_type": "code",
<<<<<<< HEAD
   "execution_count": 189,
=======
   "execution_count": 40,
>>>>>>> e05e2ccf817941f0bf181fa6dcae45400fe2db7f
   "metadata": {},
   "outputs": [
    {
     "data": {
      "text/plain": [
       "tensor([[1., 2., 3.],\n",
       "        [4., 5., 6.],\n",
       "        [7., 8., 9.]])"
      ]
     },
<<<<<<< HEAD
     "execution_count": 189,
=======
     "execution_count": 40,
>>>>>>> e05e2ccf817941f0bf181fa6dcae45400fe2db7f
     "metadata": {},
     "output_type": "execute_result"
    }
   ],
   "source": [
    "m"
   ]
  },
  {
   "cell_type": "code",
<<<<<<< HEAD
   "execution_count": 190,
=======
   "execution_count": 41,
>>>>>>> e05e2ccf817941f0bf181fa6dcae45400fe2db7f
   "metadata": {},
   "outputs": [
    {
     "data": {
      "text/plain": [
       "(torch.Size([3]), torch.Size([3, 3]))"
      ]
     },
<<<<<<< HEAD
     "execution_count": 190,
=======
     "execution_count": 41,
>>>>>>> e05e2ccf817941f0bf181fa6dcae45400fe2db7f
     "metadata": {},
     "output_type": "execute_result"
    }
   ],
   "source": [
    "a.shape, m.shape"
   ]
  },
  {
   "cell_type": "code",
<<<<<<< HEAD
   "execution_count": 191,
=======
   "execution_count": 42,
>>>>>>> e05e2ccf817941f0bf181fa6dcae45400fe2db7f
   "metadata": {},
   "outputs": [
    {
     "data": {
      "text/plain": [
       "tensor([[11.,  7.,  2.],\n",
       "        [14., 10.,  5.],\n",
       "        [17., 13.,  8.]])"
      ]
     },
<<<<<<< HEAD
     "execution_count": 191,
=======
     "execution_count": 42,
>>>>>>> e05e2ccf817941f0bf181fa6dcae45400fe2db7f
     "metadata": {},
     "output_type": "execute_result"
    }
   ],
   "source": [
    "a + m"
   ]
  },
  {
   "cell_type": "code",
<<<<<<< HEAD
   "execution_count": 192,
=======
   "execution_count": 43,
>>>>>>> e05e2ccf817941f0bf181fa6dcae45400fe2db7f
   "metadata": {},
   "outputs": [
    {
     "data": {
      "text/plain": [
       "tensor([[11.,  7.,  2.],\n",
       "        [14., 10.,  5.],\n",
       "        [17., 13.,  8.]])"
      ]
     },
<<<<<<< HEAD
     "execution_count": 192,
=======
     "execution_count": 43,
>>>>>>> e05e2ccf817941f0bf181fa6dcae45400fe2db7f
     "metadata": {},
     "output_type": "execute_result"
    }
   ],
   "source": [
    "m + a"
   ]
  },
  {
   "cell_type": "markdown",
   "metadata": {},
   "source": [
    "**The rows are not really copied despite the looks. The rows are given a *stride* of 0.**"
   ]
  },
  {
   "cell_type": "code",
<<<<<<< HEAD
   "execution_count": 193,
=======
   "execution_count": 44,
>>>>>>> e05e2ccf817941f0bf181fa6dcae45400fe2db7f
   "metadata": {},
   "outputs": [],
   "source": [
    "t = a.expand_as(m)"
   ]
  },
  {
   "cell_type": "code",
<<<<<<< HEAD
   "execution_count": 194,
=======
   "execution_count": 45,
>>>>>>> e05e2ccf817941f0bf181fa6dcae45400fe2db7f
   "metadata": {},
   "outputs": [
    {
     "data": {
      "text/plain": [
       "tensor([[10.,  5., -1.],\n",
       "        [10.,  5., -1.],\n",
       "        [10.,  5., -1.]])"
      ]
     },
<<<<<<< HEAD
     "execution_count": 194,
=======
     "execution_count": 45,
>>>>>>> e05e2ccf817941f0bf181fa6dcae45400fe2db7f
     "metadata": {},
     "output_type": "execute_result"
    }
   ],
   "source": [
    "t"
   ]
  },
  {
   "cell_type": "code",
<<<<<<< HEAD
   "execution_count": 195,
=======
   "execution_count": 46,
>>>>>>> e05e2ccf817941f0bf181fa6dcae45400fe2db7f
   "metadata": {},
   "outputs": [
    {
     "data": {
      "text/plain": [
       "tensor([[11.,  7.,  2.],\n",
       "        [14., 10.,  5.],\n",
       "        [17., 13.,  8.]])"
      ]
     },
<<<<<<< HEAD
     "execution_count": 195,
=======
     "execution_count": 46,
>>>>>>> e05e2ccf817941f0bf181fa6dcae45400fe2db7f
     "metadata": {},
     "output_type": "execute_result"
    }
   ],
   "source": [
    "m + t"
   ]
  },
  {
   "cell_type": "code",
<<<<<<< HEAD
   "execution_count": 196,
=======
   "execution_count": 47,
>>>>>>> e05e2ccf817941f0bf181fa6dcae45400fe2db7f
   "metadata": {},
   "outputs": [
    {
     "data": {
      "text/plain": [
       " 10.0\n",
       " 5.0\n",
       " -1.0\n",
       "[torch.FloatStorage of size 3]"
      ]
     },
<<<<<<< HEAD
     "execution_count": 196,
=======
     "execution_count": 47,
>>>>>>> e05e2ccf817941f0bf181fa6dcae45400fe2db7f
     "metadata": {},
     "output_type": "execute_result"
    }
   ],
   "source": [
    "t.storage()"
   ]
  },
  {
   "cell_type": "code",
<<<<<<< HEAD
   "execution_count": 197,
=======
   "execution_count": 48,
>>>>>>> e05e2ccf817941f0bf181fa6dcae45400fe2db7f
   "metadata": {},
   "outputs": [
    {
     "data": {
      "text/plain": [
       "((0, 1), torch.Size([3, 3]))"
      ]
     },
<<<<<<< HEAD
     "execution_count": 197,
=======
     "execution_count": 48,
>>>>>>> e05e2ccf817941f0bf181fa6dcae45400fe2db7f
     "metadata": {},
     "output_type": "execute_result"
    }
   ],
   "source": [
    "t.stride(), t.shape"
   ]
  },
  {
   "cell_type": "markdown",
   "metadata": {},
   "source": [
    "**Convert a 1-dim array into a 2-dim array (one of the dimensions having a value of 1) by using `unsqueeze()` or indexing with the special value `[None]`.**"
   ]
  },
  {
   "cell_type": "code",
<<<<<<< HEAD
   "execution_count": 198,
=======
   "execution_count": 49,
>>>>>>> e05e2ccf817941f0bf181fa6dcae45400fe2db7f
   "metadata": {},
   "outputs": [
    {
     "data": {
      "text/plain": [
       "tensor([[10.,  5., -1.]])"
      ]
     },
<<<<<<< HEAD
     "execution_count": 198,
=======
     "execution_count": 49,
>>>>>>> e05e2ccf817941f0bf181fa6dcae45400fe2db7f
     "metadata": {},
     "output_type": "execute_result"
    }
   ],
   "source": [
    "a.unsqueeze(0)"
   ]
  },
  {
   "cell_type": "code",
<<<<<<< HEAD
   "execution_count": 199,
=======
   "execution_count": 50,
>>>>>>> e05e2ccf817941f0bf181fa6dcae45400fe2db7f
   "metadata": {},
   "outputs": [
    {
     "data": {
      "text/plain": [
       "tensor([[10.],\n",
       "        [ 5.],\n",
       "        [-1.]])"
      ]
     },
<<<<<<< HEAD
     "execution_count": 199,
=======
     "execution_count": 50,
>>>>>>> e05e2ccf817941f0bf181fa6dcae45400fe2db7f
     "metadata": {},
     "output_type": "execute_result"
    }
   ],
   "source": [
    "a.unsqueeze(1)"
   ]
  },
  {
   "cell_type": "code",
<<<<<<< HEAD
   "execution_count": 200,
=======
   "execution_count": 64,
>>>>>>> e05e2ccf817941f0bf181fa6dcae45400fe2db7f
   "metadata": {},
   "outputs": [
    {
     "data": {
      "text/plain": [
       "tensor([[10.],\n",
       "        [ 5.],\n",
       "        [-1.]])"
      ]
     },
<<<<<<< HEAD
     "execution_count": 200,
=======
     "execution_count": 64,
>>>>>>> e05e2ccf817941f0bf181fa6dcae45400fe2db7f
     "metadata": {},
     "output_type": "execute_result"
    }
   ],
   "source": [
    "a[...,None]"
   ]
  },
  {
   "cell_type": "code",
<<<<<<< HEAD
   "execution_count": 201,
=======
   "execution_count": 53,
>>>>>>> e05e2ccf817941f0bf181fa6dcae45400fe2db7f
   "metadata": {},
   "outputs": [
    {
     "data": {
      "text/plain": [
       "(torch.Size([3]), torch.Size([1, 3]), torch.Size([3, 1]))"
      ]
     },
<<<<<<< HEAD
     "execution_count": 201,
=======
     "execution_count": 53,
>>>>>>> e05e2ccf817941f0bf181fa6dcae45400fe2db7f
     "metadata": {},
     "output_type": "execute_result"
    }
   ],
   "source": [
    "a.shape, a.unsqueeze(0).shape, a.unsqueeze(1).shape"
   ]
  },
  {
   "cell_type": "code",
<<<<<<< HEAD
   "execution_count": 202,
=======
   "execution_count": 56,
>>>>>>> e05e2ccf817941f0bf181fa6dcae45400fe2db7f
   "metadata": {},
   "outputs": [
    {
     "data": {
      "text/plain": [
       "(torch.Size([3]), torch.Size([1, 3]), torch.Size([3, 1]))"
      ]
     },
<<<<<<< HEAD
     "execution_count": 202,
=======
     "execution_count": 56,
>>>>>>> e05e2ccf817941f0bf181fa6dcae45400fe2db7f
     "metadata": {},
     "output_type": "execute_result"
    }
   ],
   "source": [
    "a.shape, a[None,:].shape, a[:,None].shape"
   ]
  },
  {
   "cell_type": "markdown",
   "metadata": {},
   "source": [
    "**Trailing `:,` can be skipped and `...` means *all preceeding dimensions*.**"
   ]
  },
  {
   "cell_type": "code",
<<<<<<< HEAD
   "execution_count": 203,
=======
   "execution_count": 57,
>>>>>>> e05e2ccf817941f0bf181fa6dcae45400fe2db7f
   "metadata": {},
   "outputs": [
    {
     "data": {
      "text/plain": [
       "(torch.Size([1, 3]), torch.Size([3, 1]))"
      ]
     },
<<<<<<< HEAD
     "execution_count": 203,
=======
     "execution_count": 57,
>>>>>>> e05e2ccf817941f0bf181fa6dcae45400fe2db7f
     "metadata": {},
     "output_type": "execute_result"
    }
   ],
   "source": [
    "a[None].shape, a[...,None].shape"
   ]
  },
  {
   "cell_type": "code",
<<<<<<< HEAD
   "execution_count": 204,
=======
   "execution_count": 61,
>>>>>>> e05e2ccf817941f0bf181fa6dcae45400fe2db7f
   "metadata": {},
   "outputs": [
    {
     "data": {
      "text/plain": [
       "tensor([[10., 10., 10.],\n",
       "        [ 5.,  5.,  5.],\n",
       "        [-1., -1., -1.]])"
      ]
     },
<<<<<<< HEAD
     "execution_count": 204,
=======
     "execution_count": 61,
>>>>>>> e05e2ccf817941f0bf181fa6dcae45400fe2db7f
     "metadata": {},
     "output_type": "execute_result"
    }
   ],
   "source": [
    "a[:,None].expand_as(m)"
   ]
  },
  {
   "cell_type": "code",
<<<<<<< HEAD
   "execution_count": 205,
=======
   "execution_count": 51,
>>>>>>> e05e2ccf817941f0bf181fa6dcae45400fe2db7f
   "metadata": {},
   "outputs": [
    {
     "data": {
      "text/plain": [
       "tensor([[1., 2., 3.],\n",
       "        [4., 5., 6.],\n",
       "        [7., 8., 9.]])"
      ]
     },
<<<<<<< HEAD
     "execution_count": 205,
=======
     "execution_count": 51,
>>>>>>> e05e2ccf817941f0bf181fa6dcae45400fe2db7f
     "metadata": {},
     "output_type": "execute_result"
    }
   ],
   "source": [
    "m "
   ]
  },
  {
   "cell_type": "markdown",
   "metadata": {},
   "source": [
    "**The following two lines are equivalent:**"
   ]
  },
  {
   "cell_type": "code",
<<<<<<< HEAD
   "execution_count": 206,
=======
   "execution_count": 62,
>>>>>>> e05e2ccf817941f0bf181fa6dcae45400fe2db7f
   "metadata": {},
   "outputs": [
    {
     "data": {
      "text/plain": [
       "tensor([[11., 12., 13.],\n",
       "        [ 9., 10., 11.],\n",
       "        [ 6.,  7.,  8.]])"
      ]
     },
<<<<<<< HEAD
     "execution_count": 206,
=======
     "execution_count": 62,
>>>>>>> e05e2ccf817941f0bf181fa6dcae45400fe2db7f
     "metadata": {},
     "output_type": "execute_result"
    }
   ],
   "source": [
    "m + a[:,None]"
   ]
  },
  {
   "cell_type": "code",
<<<<<<< HEAD
   "execution_count": 207,
=======
   "execution_count": 52,
>>>>>>> e05e2ccf817941f0bf181fa6dcae45400fe2db7f
   "metadata": {},
   "outputs": [
    {
     "data": {
      "text/plain": [
       "tensor([[11., 12., 13.],\n",
       "        [ 9., 10., 11.],\n",
       "        [ 6.,  7.,  8.]])"
      ]
     },
<<<<<<< HEAD
     "execution_count": 207,
=======
     "execution_count": 52,
>>>>>>> e05e2ccf817941f0bf181fa6dcae45400fe2db7f
     "metadata": {},
     "output_type": "execute_result"
    }
   ],
   "source": [
    "m + a.unsqueeze(1)"
   ]
  },
  {
   "cell_type": "markdown",
   "metadata": {},
   "source": [
    "#### Let's implement matrix multiplication using broadcasting"
   ]
  },
  {
   "cell_type": "code",
<<<<<<< HEAD
   "execution_count": 208,
=======
   "execution_count": 118,
>>>>>>> e05e2ccf817941f0bf181fa6dcae45400fe2db7f
   "metadata": {},
   "outputs": [],
   "source": [
    "def matmul(a,b):\n",
    "    ar, ac = a.shape\n",
    "    br, bc = b.shape\n",
    "    assert ac==br\n",
    "    c = torch.zeros(ar, bc)\n",
    "    for i in range(ar):\n",
    "        c[i] = (a[i].unsqueeze(-1) * b).sum(dim=0)\n",
    "    return c"
   ]
  },
  {
   "cell_type": "code",
<<<<<<< HEAD
   "execution_count": 209,
=======
   "execution_count": 119,
>>>>>>> e05e2ccf817941f0bf181fa6dcae45400fe2db7f
   "metadata": {},
   "outputs": [],
   "source": [
    "test_near(t1, matmul(m1, m2))"
   ]
  },
  {
   "cell_type": "code",
<<<<<<< HEAD
   "execution_count": 210,
=======
   "execution_count": 120,
>>>>>>> e05e2ccf817941f0bf181fa6dcae45400fe2db7f
   "metadata": {},
   "outputs": [
    {
     "name": "stdout",
     "output_type": "stream",
     "text": [
<<<<<<< HEAD
      "207 µs ± 6.16 µs per loop (mean ± std. dev. of 7 runs, 10 loops each)\n"
=======
      "247 µs ± 13.6 µs per loop (mean ± std. dev. of 7 runs, 10 loops each)\n"
>>>>>>> e05e2ccf817941f0bf181fa6dcae45400fe2db7f
     ]
    }
   ],
   "source": [
    "%timeit -n 10 _=matmul(m1, m2)"
   ]
  },
  {
   "cell_type": "code",
<<<<<<< HEAD
   "execution_count": 211,
=======
   "execution_count": 121,
>>>>>>> e05e2ccf817941f0bf181fa6dcae45400fe2db7f
   "metadata": {},
   "outputs": [
    {
     "data": {
      "text/plain": [
       "3376.518218623482"
      ]
     },
<<<<<<< HEAD
     "execution_count": 211,
=======
     "execution_count": 121,
>>>>>>> e05e2ccf817941f0bf181fa6dcae45400fe2db7f
     "metadata": {},
     "output_type": "execute_result"
    }
   ],
   "source": [
    "834000 / 247"
   ]
  },
  {
   "cell_type": "markdown",
   "metadata": {},
   "source": [
    "**Explanation:**"
   ]
  },
  {
   "cell_type": "code",
<<<<<<< HEAD
   "execution_count": 212,
=======
   "execution_count": 113,
>>>>>>> e05e2ccf817941f0bf181fa6dcae45400fe2db7f
   "metadata": {},
   "outputs": [
    {
     "data": {
      "text/plain": [
       "tensor([[1., 2., 3.],\n",
       "        [4., 5., 6.],\n",
       "        [7., 8., 9.]])"
      ]
     },
<<<<<<< HEAD
     "execution_count": 212,
=======
     "execution_count": 113,
>>>>>>> e05e2ccf817941f0bf181fa6dcae45400fe2db7f
     "metadata": {},
     "output_type": "execute_result"
    }
   ],
   "source": [
    "m"
   ]
  },
  {
   "cell_type": "code",
<<<<<<< HEAD
   "execution_count": 213,
=======
   "execution_count": 111,
>>>>>>> e05e2ccf817941f0bf181fa6dcae45400fe2db7f
   "metadata": {},
   "outputs": [
    {
     "data": {
      "text/plain": [
       "tensor([1., 2., 3.])"
      ]
     },
<<<<<<< HEAD
     "execution_count": 213,
=======
     "execution_count": 111,
>>>>>>> e05e2ccf817941f0bf181fa6dcae45400fe2db7f
     "metadata": {},
     "output_type": "execute_result"
    }
   ],
   "source": [
    "m[0]  # 0th row"
   ]
  },
  {
   "cell_type": "code",
<<<<<<< HEAD
   "execution_count": 214,
=======
   "execution_count": 112,
>>>>>>> e05e2ccf817941f0bf181fa6dcae45400fe2db7f
   "metadata": {},
   "outputs": [
    {
     "data": {
      "text/plain": [
       "tensor([[1.],\n",
       "        [2.],\n",
       "        [3.]])"
      ]
     },
<<<<<<< HEAD
     "execution_count": 214,
=======
     "execution_count": 112,
>>>>>>> e05e2ccf817941f0bf181fa6dcae45400fe2db7f
     "metadata": {},
     "output_type": "execute_result"
    }
   ],
   "source": [
    "m[0].unsqueeze(-1)"
   ]
  },
  {
   "cell_type": "code",
<<<<<<< HEAD
   "execution_count": 215,
=======
   "execution_count": 114,
>>>>>>> e05e2ccf817941f0bf181fa6dcae45400fe2db7f
   "metadata": {},
   "outputs": [
    {
     "data": {
      "text/plain": [
       "tensor([[ 1.,  2.,  3.],\n",
       "        [ 8., 10., 12.],\n",
       "        [21., 24., 27.]])"
      ]
     },
<<<<<<< HEAD
     "execution_count": 215,
=======
     "execution_count": 114,
>>>>>>> e05e2ccf817941f0bf181fa6dcae45400fe2db7f
     "metadata": {},
     "output_type": "execute_result"
    }
   ],
   "source": [
    "m[0].unsqueeze(-1) * m"
   ]
  },
  {
   "cell_type": "code",
<<<<<<< HEAD
   "execution_count": 216,
=======
   "execution_count": 117,
>>>>>>> e05e2ccf817941f0bf181fa6dcae45400fe2db7f
   "metadata": {},
   "outputs": [
    {
     "data": {
      "text/plain": [
       "tensor([30., 36., 42.])"
      ]
     },
<<<<<<< HEAD
     "execution_count": 216,
=======
     "execution_count": 117,
>>>>>>> e05e2ccf817941f0bf181fa6dcae45400fe2db7f
     "metadata": {},
     "output_type": "execute_result"
    }
   ],
   "source": [
    "(m[0].unsqueeze(-1) * m).sum(0)  # sum along the rows"
   ]
  },
  {
   "cell_type": "markdown",
   "metadata": {},
   "source": [
    "#### Broadcasting rules"
   ]
  },
  {
   "cell_type": "code",
<<<<<<< HEAD
   "execution_count": 217,
=======
   "execution_count": 122,
>>>>>>> e05e2ccf817941f0bf181fa6dcae45400fe2db7f
   "metadata": {},
   "outputs": [
    {
     "data": {
      "text/plain": [
       "tensor([10.,  5., -1.])"
      ]
     },
<<<<<<< HEAD
     "execution_count": 217,
=======
     "execution_count": 122,
>>>>>>> e05e2ccf817941f0bf181fa6dcae45400fe2db7f
     "metadata": {},
     "output_type": "execute_result"
    }
   ],
   "source": [
    "a"
   ]
  },
  {
   "cell_type": "code",
<<<<<<< HEAD
   "execution_count": 218,
=======
   "execution_count": 124,
>>>>>>> e05e2ccf817941f0bf181fa6dcae45400fe2db7f
   "metadata": {},
   "outputs": [
    {
     "data": {
      "text/plain": [
       "(tensor([[10.,  5., -1.]]), torch.Size([1, 3]))"
      ]
     },
<<<<<<< HEAD
     "execution_count": 218,
=======
     "execution_count": 124,
>>>>>>> e05e2ccf817941f0bf181fa6dcae45400fe2db7f
     "metadata": {},
     "output_type": "execute_result"
    }
   ],
   "source": [
    "a[None,:], a[None,:].shape"
   ]
  },
  {
   "cell_type": "code",
<<<<<<< HEAD
   "execution_count": 219,
=======
   "execution_count": 125,
>>>>>>> e05e2ccf817941f0bf181fa6dcae45400fe2db7f
   "metadata": {},
   "outputs": [
    {
     "data": {
      "text/plain": [
       "(tensor([[10.],\n",
       "         [ 5.],\n",
       "         [-1.]]), torch.Size([3, 1]))"
      ]
     },
<<<<<<< HEAD
     "execution_count": 219,
=======
     "execution_count": 125,
>>>>>>> e05e2ccf817941f0bf181fa6dcae45400fe2db7f
     "metadata": {},
     "output_type": "execute_result"
    }
   ],
   "source": [
    "a[:,None], a[:,None].shape"
   ]
  },
  {
   "cell_type": "code",
<<<<<<< HEAD
   "execution_count": 220,
=======
   "execution_count": 126,
>>>>>>> e05e2ccf817941f0bf181fa6dcae45400fe2db7f
   "metadata": {},
   "outputs": [
    {
     "data": {
      "text/plain": [
       "tensor([[100.,  50., -10.],\n",
       "        [ 50.,  25.,  -5.],\n",
       "        [-10.,  -5.,   1.]])"
      ]
     },
<<<<<<< HEAD
     "execution_count": 220,
=======
     "execution_count": 126,
>>>>>>> e05e2ccf817941f0bf181fa6dcae45400fe2db7f
     "metadata": {},
     "output_type": "execute_result"
    }
   ],
   "source": [
    "a[None,:] * a[:,None]"
   ]
  },
  {
   "cell_type": "code",
<<<<<<< HEAD
   "execution_count": 221,
=======
   "execution_count": 127,
>>>>>>> e05e2ccf817941f0bf181fa6dcae45400fe2db7f
   "metadata": {},
   "outputs": [
    {
     "data": {
      "text/plain": [
       "tensor([[0, 0, 0],\n",
       "        [1, 0, 0],\n",
       "        [1, 1, 0]], dtype=torch.uint8)"
      ]
     },
<<<<<<< HEAD
     "execution_count": 221,
=======
     "execution_count": 127,
>>>>>>> e05e2ccf817941f0bf181fa6dcae45400fe2db7f
     "metadata": {},
     "output_type": "execute_result"
    }
   ],
   "source": [
    "a[None] > a[:,None]"
   ]
  },
  {
   "cell_type": "markdown",
   "metadata": {},
   "source": [
    "When operating on two arrays/tensors, Numpy/PyTorch compares their shapes element-wise. It starts with the **trailing dimensions**, and works its way forward. Two dimensions are **compatible** when\n",
    "\n",
    "* they are equal, or\n",
    "* one of them is 1, in which case that dimension is broadcasted to make it the same size\n",
    "\n",
    "Arrays do not need to have the same number of dimensions. For example, if you have a 256*256*3 array of RGB values, and you want to scale each color in the image by a different value, you can multiply the image by a one-dimensional array with 3 values. Lining up the sizes of the trailing axes of these arrays according to the broadcast rules, shows that they are compatible:\n",
    "```\n",
    " Image  (3d array): 256 x 256 x 3\n",
    " Scale  (1d array):             3\n",
    " Result (3d array): 256 x 256 x 3\n",
    "```\n",
    "The [numpy documentation](https://docs.scipy.org/doc/numpy-1.13.0/user/basics.broadcasting.html#general-broadcasting-rules) includes several examples of what dimensions can and can not be broadcast together."
   ]
  },
  {
   "cell_type": "markdown",
   "metadata": {},
   "source": [
    "### Matrix multiplication with *Einstein summation*\n",
    "A notation that combines products and a sum in a compact way"
   ]
  },
  {
   "cell_type": "markdown",
   "metadata": {},
   "source": [
    "**If a label appears only once, it is not summed. The following, thus, produces a view of `m` with no changes:**"
   ]
  },
  {
   "cell_type": "code",
<<<<<<< HEAD
   "execution_count": 222,
=======
   "execution_count": 136,
>>>>>>> e05e2ccf817941f0bf181fa6dcae45400fe2db7f
   "metadata": {},
   "outputs": [
    {
     "data": {
      "text/plain": [
       "tensor([[1., 2., 3.],\n",
       "        [4., 5., 6.],\n",
       "        [7., 8., 9.]])"
      ]
     },
<<<<<<< HEAD
     "execution_count": 222,
=======
     "execution_count": 136,
>>>>>>> e05e2ccf817941f0bf181fa6dcae45400fe2db7f
     "metadata": {},
     "output_type": "execute_result"
    }
   ],
   "source": [
    "m"
   ]
  },
  {
   "cell_type": "code",
<<<<<<< HEAD
   "execution_count": 223,
=======
   "execution_count": 135,
>>>>>>> e05e2ccf817941f0bf181fa6dcae45400fe2db7f
   "metadata": {},
   "outputs": [
    {
     "data": {
      "text/plain": [
       "tensor([[1., 2., 3.],\n",
       "        [4., 5., 6.],\n",
       "        [7., 8., 9.]])"
      ]
     },
<<<<<<< HEAD
     "execution_count": 223,
=======
     "execution_count": 135,
>>>>>>> e05e2ccf817941f0bf181fa6dcae45400fe2db7f
     "metadata": {},
     "output_type": "execute_result"
    }
   ],
   "source": [
    "torch.einsum('ij',m)"
   ]
  },
  {
   "cell_type": "markdown",
   "metadata": {},
   "source": [
    "**When a label is repeated, you do a dot product over this dimension.**"
   ]
  },
  {
   "cell_type": "code",
<<<<<<< HEAD
   "execution_count": 224,
=======
   "execution_count": 137,
>>>>>>> e05e2ccf817941f0bf181fa6dcae45400fe2db7f
   "metadata": {},
   "outputs": [],
   "source": [
    "def matmul(a,b): return torch.einsum('ik,kj->ij', a, b)"
   ]
  },
  {
   "cell_type": "code",
<<<<<<< HEAD
   "execution_count": 225,
=======
   "execution_count": 138,
>>>>>>> e05e2ccf817941f0bf181fa6dcae45400fe2db7f
   "metadata": {},
   "outputs": [],
   "source": [
    "test_near(t1, matmul(m1, m2))"
   ]
  },
  {
   "cell_type": "code",
<<<<<<< HEAD
   "execution_count": 226,
=======
   "execution_count": 139,
>>>>>>> e05e2ccf817941f0bf181fa6dcae45400fe2db7f
   "metadata": {},
   "outputs": [
    {
     "name": "stdout",
     "output_type": "stream",
     "text": [
<<<<<<< HEAD
      "46.4 µs ± 5.42 µs per loop (mean ± std. dev. of 7 runs, 10 loops each)\n"
=======
      "57.2 µs ± 6.73 µs per loop (mean ± std. dev. of 7 runs, 10 loops each)\n"
>>>>>>> e05e2ccf817941f0bf181fa6dcae45400fe2db7f
     ]
    }
   ],
   "source": [
    "%timeit -n 10 _=matmul(m1, m2)"
   ]
  },
  {
   "cell_type": "code",
<<<<<<< HEAD
   "execution_count": 227,
=======
   "execution_count": 140,
>>>>>>> e05e2ccf817941f0bf181fa6dcae45400fe2db7f
   "metadata": {},
   "outputs": [
    {
     "data": {
      "text/plain": [
       "14631.578947368422"
      ]
     },
<<<<<<< HEAD
     "execution_count": 227,
=======
     "execution_count": 140,
>>>>>>> e05e2ccf817941f0bf181fa6dcae45400fe2db7f
     "metadata": {},
     "output_type": "execute_result"
    }
   ],
   "source": [
    "834000 / 57"
   ]
  },
  {
   "cell_type": "markdown",
   "metadata": {},
   "source": [
    "### Finally: compare this to PyTorch's matmul (uses cuBLAS)"
   ]
  },
  {
   "cell_type": "code",
<<<<<<< HEAD
   "execution_count": 228,
=======
   "execution_count": 150,
>>>>>>> e05e2ccf817941f0bf181fa6dcae45400fe2db7f
   "metadata": {},
   "outputs": [
    {
     "name": "stdout",
     "output_type": "stream",
     "text": [
<<<<<<< HEAD
      "8.47 µs ± 2.82 µs per loop (mean ± std. dev. of 7 runs, 10 loops each)\n"
=======
      "9.6 µs ± 3.55 µs per loop (mean ± std. dev. of 7 runs, 10 loops each)\n"
>>>>>>> e05e2ccf817941f0bf181fa6dcae45400fe2db7f
     ]
    }
   ],
   "source": [
    "%timeit -n 10 t2 = m1.matmul(m2)"
   ]
  },
  {
   "cell_type": "code",
<<<<<<< HEAD
   "execution_count": 229,
=======
   "execution_count": 151,
>>>>>>> e05e2ccf817941f0bf181fa6dcae45400fe2db7f
   "metadata": {},
   "outputs": [
    {
     "data": {
      "text/plain": [
       "86875.0"
      ]
     },
<<<<<<< HEAD
     "execution_count": 229,
=======
     "execution_count": 151,
>>>>>>> e05e2ccf817941f0bf181fa6dcae45400fe2db7f
     "metadata": {},
     "output_type": "execute_result"
    }
   ],
   "source": [
    "834000 / 9.6"
   ]
  },
  {
   "cell_type": "code",
<<<<<<< HEAD
   "execution_count": 230,
=======
   "execution_count": 152,
>>>>>>> e05e2ccf817941f0bf181fa6dcae45400fe2db7f
   "metadata": {},
   "outputs": [],
   "source": [
    "t2 = m1@m2"
   ]
  },
  {
   "cell_type": "code",
<<<<<<< HEAD
   "execution_count": 231,
=======
   "execution_count": 153,
>>>>>>> e05e2ccf817941f0bf181fa6dcae45400fe2db7f
   "metadata": {},
   "outputs": [],
   "source": [
    "test_near(t1, t2)"
   ]
  },
  {
   "cell_type": "markdown",
   "metadata": {},
   "source": [
    "### Export"
   ]
  },
  {
   "cell_type": "code",
<<<<<<< HEAD
   "execution_count": 232,
=======
   "execution_count": 154,
>>>>>>> e05e2ccf817941f0bf181fa6dcae45400fe2db7f
   "metadata": {},
   "outputs": [
    {
     "name": "stdout",
     "output_type": "stream",
     "text": [
      "Converted 01_matmul.ipynb to exp/nb_01.py\r\n"
     ]
    }
   ],
   "source": [
    "!python notebook2script.py 01_matmul.ipynb"
   ]
  }
 ],
 "metadata": {
  "kernelspec": {
   "display_name": "Python (fastai)",
   "language": "python",
   "name": "fastai"
  },
  "language_info": {
   "codemirror_mode": {
    "name": "ipython",
    "version": 3
   },
   "file_extension": ".py",
   "mimetype": "text/x-python",
   "name": "python",
   "nbconvert_exporter": "python",
   "pygments_lexer": "ipython3",
   "version": "3.6.8"
  }
 },
 "nbformat": 4,
 "nbformat_minor": 2
}
